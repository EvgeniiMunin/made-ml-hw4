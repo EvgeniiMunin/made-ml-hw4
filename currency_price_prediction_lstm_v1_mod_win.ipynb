{
  "nbformat": 4,
  "nbformat_minor": 0,
  "metadata": {
    "colab": {
      "name": "currency_price_prediction_lstm_v1_mod_win.ipynb",
      "provenance": [],
      "collapsed_sections": []
    },
    "kernelspec": {
      "name": "python3",
      "display_name": "Python 3"
    },
    "accelerator": "GPU"
  },
  "cells": [
    {
      "cell_type": "code",
      "metadata": {
        "id": "t7iVRoI_amRk"
      },
      "source": [
        "%tensorflow_version 2.x\n",
        "import json\n",
        "import requests\n",
        "from keras.models import Sequential\n",
        "from keras.layers import Activation, Dense, Dropout, LSTM\n",
        "import matplotlib.pyplot as plt\n",
        "import numpy as np\n",
        "import pandas as pd\n",
        "import seaborn as sns\n",
        "from sklearn.metrics import mean_absolute_error\n",
        "%matplotlib inline\n",
        "\n",
        "import pickle"
      ],
      "execution_count": 1,
      "outputs": []
    },
    {
      "cell_type": "markdown",
      "metadata": {
        "id": "Xj0h5G8ZhkbI"
      },
      "source": [
        "https://min-api.cryptocompare.com/data/histoday?fsym=BTC&tsym=CAD&limit=500"
      ]
    },
    {
      "cell_type": "code",
      "metadata": {
        "colab": {
          "base_uri": "https://localhost:8080/",
          "height": 380
        },
        "id": "Nzr1aBIZauPY",
        "outputId": "ab43c5bc-1cc1-436a-cda5-1b161acf212a"
      },
      "source": [
        "endpoint = 'https://min-api.cryptocompare.com/data/histoday'\n",
        "res = requests.get(endpoint + '?fsym=BTC&tsym=CAD&limit=500')\n",
        "hist = pd.DataFrame(json.loads(res.content)['Data'])\n",
        "hist = hist.set_index('time')\n",
        "hist.index = pd.to_datetime(hist.index, unit='s')\n",
        "hist = hist[['high', 'low', 'open', 'volumefrom', 'volumeto', 'close']]\n",
        "target_col = 'close'\n",
        "print(hist.shape)\n",
        "hist.head(10)"
      ],
      "execution_count": 2,
      "outputs": [
        {
          "output_type": "stream",
          "text": [
            "(501, 6)\n"
          ],
          "name": "stdout"
        },
        {
          "output_type": "execute_result",
          "data": {
            "text/html": [
              "<div>\n",
              "<style scoped>\n",
              "    .dataframe tbody tr th:only-of-type {\n",
              "        vertical-align: middle;\n",
              "    }\n",
              "\n",
              "    .dataframe tbody tr th {\n",
              "        vertical-align: top;\n",
              "    }\n",
              "\n",
              "    .dataframe thead th {\n",
              "        text-align: right;\n",
              "    }\n",
              "</style>\n",
              "<table border=\"1\" class=\"dataframe\">\n",
              "  <thead>\n",
              "    <tr style=\"text-align: right;\">\n",
              "      <th></th>\n",
              "      <th>high</th>\n",
              "      <th>low</th>\n",
              "      <th>open</th>\n",
              "      <th>volumefrom</th>\n",
              "      <th>volumeto</th>\n",
              "      <th>close</th>\n",
              "    </tr>\n",
              "    <tr>\n",
              "      <th>time</th>\n",
              "      <th></th>\n",
              "      <th></th>\n",
              "      <th></th>\n",
              "      <th></th>\n",
              "      <th></th>\n",
              "      <th></th>\n",
              "    </tr>\n",
              "  </thead>\n",
              "  <tbody>\n",
              "    <tr>\n",
              "      <th>2019-08-05</th>\n",
              "      <td>15494.1</td>\n",
              "      <td>14476.7</td>\n",
              "      <td>14479.2</td>\n",
              "      <td>172.01</td>\n",
              "      <td>2613805.76</td>\n",
              "      <td>15227.1</td>\n",
              "    </tr>\n",
              "    <tr>\n",
              "      <th>2019-08-06</th>\n",
              "      <td>15944.9</td>\n",
              "      <td>14652.9</td>\n",
              "      <td>15227.1</td>\n",
              "      <td>84.65</td>\n",
              "      <td>1297525.18</td>\n",
              "      <td>15053.8</td>\n",
              "    </tr>\n",
              "    <tr>\n",
              "      <th>2019-08-07</th>\n",
              "      <td>15815.0</td>\n",
              "      <td>14750.2</td>\n",
              "      <td>15053.8</td>\n",
              "      <td>88.46</td>\n",
              "      <td>1362814.79</td>\n",
              "      <td>15776.7</td>\n",
              "    </tr>\n",
              "    <tr>\n",
              "      <th>2019-08-08</th>\n",
              "      <td>15824.0</td>\n",
              "      <td>15222.5</td>\n",
              "      <td>15776.7</td>\n",
              "      <td>68.75</td>\n",
              "      <td>1070396.00</td>\n",
              "      <td>15800.0</td>\n",
              "    </tr>\n",
              "    <tr>\n",
              "      <th>2019-08-09</th>\n",
              "      <td>15889.0</td>\n",
              "      <td>15450.0</td>\n",
              "      <td>15800.0</td>\n",
              "      <td>30.12</td>\n",
              "      <td>470903.46</td>\n",
              "      <td>15700.5</td>\n",
              "    </tr>\n",
              "    <tr>\n",
              "      <th>2019-08-10</th>\n",
              "      <td>15800.0</td>\n",
              "      <td>14869.3</td>\n",
              "      <td>15700.5</td>\n",
              "      <td>45.07</td>\n",
              "      <td>688885.31</td>\n",
              "      <td>14955.2</td>\n",
              "    </tr>\n",
              "    <tr>\n",
              "      <th>2019-08-11</th>\n",
              "      <td>15300.0</td>\n",
              "      <td>14754.5</td>\n",
              "      <td>14955.2</td>\n",
              "      <td>25.92</td>\n",
              "      <td>390620.03</td>\n",
              "      <td>15255.3</td>\n",
              "    </tr>\n",
              "    <tr>\n",
              "      <th>2019-08-12</th>\n",
              "      <td>15255.3</td>\n",
              "      <td>14951.2</td>\n",
              "      <td>15255.3</td>\n",
              "      <td>36.50</td>\n",
              "      <td>550740.63</td>\n",
              "      <td>15041.1</td>\n",
              "    </tr>\n",
              "    <tr>\n",
              "      <th>2019-08-13</th>\n",
              "      <td>15174.3</td>\n",
              "      <td>14211.5</td>\n",
              "      <td>15041.1</td>\n",
              "      <td>56.37</td>\n",
              "      <td>826959.10</td>\n",
              "      <td>14442.9</td>\n",
              "    </tr>\n",
              "    <tr>\n",
              "      <th>2019-08-14</th>\n",
              "      <td>14442.9</td>\n",
              "      <td>13225.5</td>\n",
              "      <td>14442.9</td>\n",
              "      <td>94.50</td>\n",
              "      <td>1308356.59</td>\n",
              "      <td>13289.1</td>\n",
              "    </tr>\n",
              "  </tbody>\n",
              "</table>\n",
              "</div>"
            ],
            "text/plain": [
              "               high      low     open  volumefrom    volumeto    close\n",
              "time                                                                  \n",
              "2019-08-05  15494.1  14476.7  14479.2      172.01  2613805.76  15227.1\n",
              "2019-08-06  15944.9  14652.9  15227.1       84.65  1297525.18  15053.8\n",
              "2019-08-07  15815.0  14750.2  15053.8       88.46  1362814.79  15776.7\n",
              "2019-08-08  15824.0  15222.5  15776.7       68.75  1070396.00  15800.0\n",
              "2019-08-09  15889.0  15450.0  15800.0       30.12   470903.46  15700.5\n",
              "2019-08-10  15800.0  14869.3  15700.5       45.07   688885.31  14955.2\n",
              "2019-08-11  15300.0  14754.5  14955.2       25.92   390620.03  15255.3\n",
              "2019-08-12  15255.3  14951.2  15255.3       36.50   550740.63  15041.1\n",
              "2019-08-13  15174.3  14211.5  15041.1       56.37   826959.10  14442.9\n",
              "2019-08-14  14442.9  13225.5  14442.9       94.50  1308356.59  13289.1"
            ]
          },
          "metadata": {
            "tags": []
          },
          "execution_count": 2
        }
      ]
    },
    {
      "cell_type": "code",
      "metadata": {
        "colab": {
          "base_uri": "https://localhost:8080/"
        },
        "id": "sGAHJcF_awS1",
        "outputId": "1ba198ee-b755-42a6-f282-6b52c57d79a1"
      },
      "source": [
        "def train_test_split(df, test_size=0.2):\n",
        "  split_row = len(df) - int(test_size * len(df))\n",
        "  train_data = df.iloc[:split_row]\n",
        "  test_data = df.iloc[split_row:]\n",
        "  return train_data, test_data\n",
        "\n",
        "train, test = train_test_split(hist, test_size=0.2)\n",
        "# got train size 401 points, test size 100 points\n",
        "train.shape, test.shape"
      ],
      "execution_count": 3,
      "outputs": [
        {
          "output_type": "execute_result",
          "data": {
            "text/plain": [
              "((401, 6), (100, 6))"
            ]
          },
          "metadata": {
            "tags": []
          },
          "execution_count": 3
        }
      ]
    },
    {
      "cell_type": "code",
      "metadata": {
        "colab": {
          "base_uri": "https://localhost:8080/",
          "height": 431
        },
        "id": "pg-AErFobA3o",
        "outputId": "3464efa4-61d6-442f-d844-34369ee8df41"
      },
      "source": [
        "def line_plot(line1, line2, label1=None, label2=None, title='', lw=2):\n",
        "    fig, ax = plt.subplots(1, figsize=(13, 7))\n",
        "    ax.plot(line1, label=label1, linewidth=lw)\n",
        "    ax.plot(line2, label=label2, linewidth=lw)\n",
        "    ax.set_ylabel('price [CAD]', fontsize=14)\n",
        "    ax.set_title(title, fontsize=16)\n",
        "    ax.legend(loc='best', fontsize=16);\n",
        "\n",
        "line_plot(train[target_col], test[target_col], 'training', 'test', title='')"
      ],
      "execution_count": 4,
      "outputs": [
        {
          "output_type": "display_data",
          "data": {
            "image/png": "[encoded data removed]",
            "text/plain": [
              "<Figure size 936x504 with 1 Axes>"
            ]
          },
          "metadata": {
            "tags": [],
            "needs_background": "light"
          }
        }
      ]
    },
    {
      "cell_type": "markdown",
      "metadata": {
        "id": "lCQJIhik8VpT"
      },
      "source": [
        "Include pre_horizon value to shift the prediction forward from the sliding window. Thus shift the targets forward and the data shift by the value of pred_horizon."
      ]
    },
    {
      "cell_type": "code",
      "metadata": {
        "id": "Xvj1ZupDbNik"
      },
      "source": [
        "def normalise_zero_base(df):\n",
        "  # print(df.info())\n",
        "  # print(df.head())\n",
        "  return df / df.iloc[0] - 1\n",
        "\n",
        "def normalise_min_max(df):\n",
        "  return (df - df.min()) / (data.max() - df.min())\n",
        "\n",
        "def extract_window_data(df, window_len=5, zero_base=True):\n",
        "  window_data = []\n",
        "  dates = []\n",
        "  # extract window_len points for win segment\n",
        "  for idx in range(len(df) - window_len):\n",
        "      tmp = df[idx: (idx + window_len)].copy()\n",
        "      # print(tmp)\n",
        "      if zero_base:\n",
        "          tmp = normalise_zero_base(tmp)\n",
        "      dates.append(tmp.index)\n",
        "      window_data.append(tmp.values)\n",
        "  return np.array(window_data), dates\n",
        "\n",
        "def prepare_data(df, target_col, window_len=10, pred_horizon=5, zero_base=True, test_size=0.2):\n",
        "  # split data\n",
        "  train_data, test_data = train_test_split(df, test_size=test_size)\n",
        "\n",
        "  # process data get tensors by win\n",
        "  X_train, train_dates = extract_window_data(train_data, window_len, zero_base)\n",
        "  X_test, test_dates = extract_window_data(test_data, window_len, zero_base)\n",
        "  \n",
        "  # extract targets - the point after each win_len segment + offset of predict_horizon\n",
        "  y_train = train_data[target_col][window_len + pred_horizon:]\n",
        "  y_test = test_data[target_col][window_len + pred_horizon:]\n",
        "\n",
        "  # make offset by value of horizon\n",
        "  X_train = X_train[:-pred_horizon]\n",
        "  X_test = X_test[:-pred_horizon]\n",
        "  train_dates = train_dates[:-pred_horizon]\n",
        "  test_dates = test_dates[:-pred_horizon]\n",
        "  train_data = train_data[:-pred_horizon]\n",
        "  test_data = test_data[:-pred_horizon]\n",
        "  \n",
        "  for i in range(20):\n",
        "    print()\n",
        "    print('test dates: ', test_dates[-i])\n",
        "    print('ytest: ', y_test[-i:-i+1])\n",
        "  \n",
        "  y_trian = y_train.values\n",
        "  y_test = y_test.values\n",
        "\n",
        "  if zero_base:\n",
        "      y_train = y_train / train_data[target_col][:-window_len].values - 1\n",
        "      y_test = y_test / test_data[target_col][:-window_len].values - 1\n",
        "\n",
        "  return train_data, test_data, X_train, X_test, y_train, y_test, train_dates, test_dates\n",
        "\n",
        "def build_lstm_model(input_data, output_size, neurons=100, activ_func='linear',\n",
        "                     dropout=0.2, loss='mse', optimizer='adam'):\n",
        "  model = Sequential()\n",
        "  model.add(LSTM(neurons, input_shape=(input_data.shape[1], input_data.shape[2])))\n",
        "  model.add(Dropout(dropout))\n",
        "  model.add(Dense(units=output_size))\n",
        "  model.add(Activation(activ_func))\n",
        "\n",
        "  model.compile(loss=loss, optimizer=optimizer)\n",
        "  return model\n",
        "\n",
        "def save_model(model, file_name):\n",
        "    \"\"\"\n",
        "    Save model in pickle format\n",
        "    :param model: training model\n",
        "    :param file_name: String\n",
        "        Path to the model file\n",
        "    \"\"\"\n",
        "    with open(file_name, 'wb') as file:\n",
        "        pickle.dump(model, file)\n",
        "        \n",
        "def load_model(file_name):\n",
        "    \"\"\"\n",
        "    Load model from file\n",
        "    :param file_name: String\n",
        "        Path to the model file\n",
        "    :return: predictive model\n",
        "    \"\"\"\n",
        "    with open(file_name, 'rb') as file:\n",
        "        return pickle.load(file)"
      ],
      "execution_count": 83,
      "outputs": []
    },
    {
      "cell_type": "code",
      "metadata": {
        "id": "IY-7qhG4be2b"
      },
      "source": [
        "np.random.seed(42)\n",
        "window_len = 5\n",
        "pred_horizon = 6\n",
        "test_size = 0.2\n",
        "zero_base = True\n",
        "lstm_neurons = 100\n",
        "epochs = 20\n",
        "batch_size = 32\n",
        "loss = 'mse'\n",
        "dropout = 0.2\n",
        "optimizer = 'adam'"
      ],
      "execution_count": 102,
      "outputs": []
    },
    {
      "cell_type": "code",
      "metadata": {
        "colab": {
          "base_uri": "https://localhost:8080/"
        },
        "id": "2Jszz1VTbfMq",
        "outputId": "2cd12a3c-1e05-4bb4-ebd9-9aada394eb3f"
      },
      "source": [
        "train, test, X_train, X_test, y_train, y_test, train_dates, test_dates = prepare_data(hist, target_col, \n",
        "                                                                                      window_len=window_len, \n",
        "                                                                                      pred_horizon=pred_horizon,\n",
        "                                                                                      zero_base=zero_base, \n",
        "                                                                                      test_size=test_size)"
      ],
      "execution_count": 103,
      "outputs": [
        {
          "output_type": "stream",
          "text": [
            "\n",
            "test dates:  DatetimeIndex(['2020-09-09', '2020-09-10', '2020-09-11', '2020-09-12',\n",
            "               '2020-09-13'],\n",
            "              dtype='datetime64[ns]', name='time', freq=None)\n",
            "ytest:  time\n",
            "2020-09-20    14466.74\n",
            "Name: close, dtype: float64\n",
            "\n",
            "test dates:  DatetimeIndex(['2020-12-06', '2020-12-07', '2020-12-08', '2020-12-09',\n",
            "               '2020-12-10'],\n",
            "              dtype='datetime64[ns]', name='time', freq=None)\n",
            "ytest:  Series([], Name: close, dtype: float64)\n",
            "\n",
            "test dates:  DatetimeIndex(['2020-12-05', '2020-12-06', '2020-12-07', '2020-12-08',\n",
            "               '2020-12-09'],\n",
            "              dtype='datetime64[ns]', name='time', freq=None)\n",
            "ytest:  time\n",
            "2020-12-16    27337.58\n",
            "Name: close, dtype: float64\n",
            "\n",
            "test dates:  DatetimeIndex(['2020-12-04', '2020-12-05', '2020-12-06', '2020-12-07',\n",
            "               '2020-12-08'],\n",
            "              dtype='datetime64[ns]', name='time', freq=None)\n",
            "ytest:  time\n",
            "2020-12-15    24778.67\n",
            "Name: close, dtype: float64\n",
            "\n",
            "test dates:  DatetimeIndex(['2020-12-03', '2020-12-04', '2020-12-05', '2020-12-06',\n",
            "               '2020-12-07'],\n",
            "              dtype='datetime64[ns]', name='time', freq=None)\n",
            "ytest:  time\n",
            "2020-12-14    24663.8\n",
            "Name: close, dtype: float64\n",
            "\n",
            "test dates:  DatetimeIndex(['2020-12-02', '2020-12-03', '2020-12-04', '2020-12-05',\n",
            "               '2020-12-06'],\n",
            "              dtype='datetime64[ns]', name='time', freq=None)\n",
            "ytest:  time\n",
            "2020-12-13    24531.3\n",
            "Name: close, dtype: float64\n",
            "\n",
            "test dates:  DatetimeIndex(['2020-12-01', '2020-12-02', '2020-12-03', '2020-12-04',\n",
            "               '2020-12-05'],\n",
            "              dtype='datetime64[ns]', name='time', freq=None)\n",
            "ytest:  time\n",
            "2020-12-12    24155.59\n",
            "Name: close, dtype: float64\n",
            "\n",
            "test dates:  DatetimeIndex(['2020-11-30', '2020-12-01', '2020-12-02', '2020-12-03',\n",
            "               '2020-12-04'],\n",
            "              dtype='datetime64[ns]', name='time', freq=None)\n",
            "ytest:  time\n",
            "2020-12-11    23081.68\n",
            "Name: close, dtype: float64\n",
            "\n",
            "test dates:  DatetimeIndex(['2020-11-29', '2020-11-30', '2020-12-01', '2020-12-02',\n",
            "               '2020-12-03'],\n",
            "              dtype='datetime64[ns]', name='time', freq=None)\n",
            "ytest:  time\n",
            "2020-12-10    23355.09\n",
            "Name: close, dtype: float64\n",
            "\n",
            "test dates:  DatetimeIndex(['2020-11-28', '2020-11-29', '2020-11-30', '2020-12-01',\n",
            "               '2020-12-02'],\n",
            "              dtype='datetime64[ns]', name='time', freq=None)\n",
            "ytest:  time\n",
            "2020-12-09    23932.51\n",
            "Name: close, dtype: float64\n",
            "\n",
            "test dates:  DatetimeIndex(['2020-11-27', '2020-11-28', '2020-11-29', '2020-11-30',\n",
            "               '2020-12-01'],\n",
            "              dtype='datetime64[ns]', name='time', freq=None)\n",
            "ytest:  time\n",
            "2020-12-08    23626.47\n",
            "Name: close, dtype: float64\n",
            "\n",
            "test dates:  DatetimeIndex(['2020-11-26', '2020-11-27', '2020-11-28', '2020-11-29',\n",
            "               '2020-11-30'],\n",
            "              dtype='datetime64[ns]', name='time', freq=None)\n",
            "ytest:  time\n",
            "2020-12-07    24626.17\n",
            "Name: close, dtype: float64\n",
            "\n",
            "test dates:  DatetimeIndex(['2020-11-25', '2020-11-26', '2020-11-27', '2020-11-28',\n",
            "               '2020-11-29'],\n",
            "              dtype='datetime64[ns]', name='time', freq=None)\n",
            "ytest:  time\n",
            "2020-12-06    24862.59\n",
            "Name: close, dtype: float64\n",
            "\n",
            "test dates:  DatetimeIndex(['2020-11-24', '2020-11-25', '2020-11-26', '2020-11-27',\n",
            "               '2020-11-28'],\n",
            "              dtype='datetime64[ns]', name='time', freq=None)\n",
            "ytest:  time\n",
            "2020-12-05    24634.57\n",
            "Name: close, dtype: float64\n",
            "\n",
            "test dates:  DatetimeIndex(['2020-11-23', '2020-11-24', '2020-11-25', '2020-11-26',\n",
            "               '2020-11-27'],\n",
            "              dtype='datetime64[ns]', name='time', freq=None)\n",
            "ytest:  time\n",
            "2020-12-04    24002.57\n",
            "Name: close, dtype: float64\n",
            "\n",
            "test dates:  DatetimeIndex(['2020-11-22', '2020-11-23', '2020-11-24', '2020-11-25',\n",
            "               '2020-11-26'],\n",
            "              dtype='datetime64[ns]', name='time', freq=None)\n",
            "ytest:  time\n",
            "2020-12-03    25114.66\n",
            "Name: close, dtype: float64\n",
            "\n",
            "test dates:  DatetimeIndex(['2020-11-21', '2020-11-22', '2020-11-23', '2020-11-24',\n",
            "               '2020-11-25'],\n",
            "              dtype='datetime64[ns]', name='time', freq=None)\n",
            "ytest:  time\n",
            "2020-12-02    24928.35\n",
            "Name: close, dtype: float64\n",
            "\n",
            "test dates:  DatetimeIndex(['2020-11-20', '2020-11-21', '2020-11-22', '2020-11-23',\n",
            "               '2020-11-24'],\n",
            "              dtype='datetime64[ns]', name='time', freq=None)\n",
            "ytest:  time\n",
            "2020-12-01    24389.89\n",
            "Name: close, dtype: float64\n",
            "\n",
            "test dates:  DatetimeIndex(['2020-11-19', '2020-11-20', '2020-11-21', '2020-11-22',\n",
            "               '2020-11-23'],\n",
            "              dtype='datetime64[ns]', name='time', freq=None)\n",
            "ytest:  time\n",
            "2020-11-30    25632.24\n",
            "Name: close, dtype: float64\n",
            "\n",
            "test dates:  DatetimeIndex(['2020-11-18', '2020-11-19', '2020-11-20', '2020-11-21',\n",
            "               '2020-11-22'],\n",
            "              dtype='datetime64[ns]', name='time', freq=None)\n",
            "ytest:  time\n",
            "2020-11-29    23798.58\n",
            "Name: close, dtype: float64\n"
          ],
          "name": "stdout"
        }
      ]
    },
    {
      "cell_type": "code",
      "metadata": {
        "colab": {
          "base_uri": "https://localhost:8080/"
        },
        "id": "0qq1YmbOq9kw",
        "outputId": "f554f861-37d9-4008-f6f1-f4bd017fef83"
      },
      "source": [
        "# check shapes\n",
        "test[:10], test.shape, X_test.shape, len(test_dates), y_test.shape, \\\n",
        "train[:10], train.shape, X_train.shape, len(train_dates), y_train.shape"
      ],
      "execution_count": 104,
      "outputs": [
        {
          "output_type": "execute_result",
          "data": {
            "text/plain": [
              "(                high       low      open  volumefrom    volumeto     close\n",
              " time                                                                      \n",
              " 2020-09-09  13794.39  13307.82  13519.09       90.67  1230573.81  13619.53\n",
              " 2020-09-10  13936.68  13613.69  13619.53      113.55  1561850.95  13785.72\n",
              " 2020-09-11  13892.18  13595.79  13785.72       80.58  1106903.43  13862.71\n",
              " 2020-09-12  13924.01  13695.21  13862.71       63.03   871896.56  13888.15\n",
              " 2020-09-13  14019.70  13581.53  13888.15       59.32   817713.93  13702.47\n",
              " 2020-09-14  14236.60  13634.76  13702.47       94.01  1313114.00  14136.14\n",
              " 2020-09-15  14555.73  14047.86  14136.14      111.56  1588627.23  14264.24\n",
              " 2020-09-16  14714.82  14130.08  14264.24       92.63  1338766.74  14537.22\n",
              " 2020-09-17  14748.14  14279.34  14537.22       89.04  1285660.70  14480.11\n",
              " 2020-09-18  14583.59  14377.31  14480.11       75.44  1092181.45  14513.64,\n",
              " (94, 6),\n",
              " (89, 5, 6),\n",
              " 89,\n",
              " (89,),\n",
              "                high      low     open  volumefrom    volumeto    close\n",
              " time                                                                  \n",
              " 2019-08-05  15494.1  14476.7  14479.2      172.01  2613805.76  15227.1\n",
              " 2019-08-06  15944.9  14652.9  15227.1       84.65  1297525.18  15053.8\n",
              " 2019-08-07  15815.0  14750.2  15053.8       88.46  1362814.79  15776.7\n",
              " 2019-08-08  15824.0  15222.5  15776.7       68.75  1070396.00  15800.0\n",
              " 2019-08-09  15889.0  15450.0  15800.0       30.12   470903.46  15700.5\n",
              " 2019-08-10  15800.0  14869.3  15700.5       45.07   688885.31  14955.2\n",
              " 2019-08-11  15300.0  14754.5  14955.2       25.92   390620.03  15255.3\n",
              " 2019-08-12  15255.3  14951.2  15255.3       36.50   550740.63  15041.1\n",
              " 2019-08-13  15174.3  14211.5  15041.1       56.37   826959.10  14442.9\n",
              " 2019-08-14  14442.9  13225.5  14442.9       94.50  1308356.59  13289.1,\n",
              " (395, 6),\n",
              " (390, 5, 6),\n",
              " 390,\n",
              " (390,))"
            ]
          },
          "metadata": {
            "tags": []
          },
          "execution_count": 104
        }
      ]
    },
    {
      "cell_type": "code",
      "metadata": {
        "id": "OpUAGz0Obh7k",
        "colab": {
          "base_uri": "https://localhost:8080/"
        },
        "outputId": "1b3a07e2-393a-4d5c-8361-b67a7fe598e5"
      },
      "source": [
        "model = build_lstm_model( X_train, output_size=1, \n",
        "                         neurons=lstm_neurons, \n",
        "                         dropout=dropout, \n",
        "                         loss=loss, \n",
        "                         optimizer=optimizer)\n",
        "history = model.fit(X_train, y_train, epochs=epochs, \n",
        "                    batch_size=batch_size, verbose=1, shuffle=True)"
      ],
      "execution_count": 105,
      "outputs": [
        {
          "output_type": "stream",
          "text": [
            "Epoch 1/20\n",
            "13/13 [==============================] - 1s 4ms/step - loss: 0.0170\n",
            "Epoch 2/20\n",
            "13/13 [==============================] - 0s 3ms/step - loss: 0.0140\n",
            "Epoch 3/20\n",
            "13/13 [==============================] - 0s 3ms/step - loss: 0.0118\n",
            "Epoch 4/20\n",
            "13/13 [==============================] - 0s 3ms/step - loss: 0.0122\n",
            "Epoch 5/20\n",
            "13/13 [==============================] - 0s 4ms/step - loss: 0.0113\n",
            "Epoch 6/20\n",
            "13/13 [==============================] - 0s 3ms/step - loss: 0.0117\n",
            "Epoch 7/20\n",
            "13/13 [==============================] - 0s 3ms/step - loss: 0.0108\n",
            "Epoch 8/20\n",
            "13/13 [==============================] - 0s 3ms/step - loss: 0.0108\n",
            "Epoch 9/20\n",
            "13/13 [==============================] - 0s 3ms/step - loss: 0.0106\n",
            "Epoch 10/20\n",
            "13/13 [==============================] - 0s 3ms/step - loss: 0.0105\n",
            "Epoch 11/20\n",
            "13/13 [==============================] - 0s 3ms/step - loss: 0.0094\n",
            "Epoch 12/20\n",
            "13/13 [==============================] - 0s 3ms/step - loss: 0.0105\n",
            "Epoch 13/20\n",
            "13/13 [==============================] - 0s 3ms/step - loss: 0.0111\n",
            "Epoch 14/20\n",
            "13/13 [==============================] - 0s 3ms/step - loss: 0.0105\n",
            "Epoch 15/20\n",
            "13/13 [==============================] - 0s 3ms/step - loss: 0.0104\n",
            "Epoch 16/20\n",
            "13/13 [==============================] - 0s 4ms/step - loss: 0.0084\n",
            "Epoch 17/20\n",
            "13/13 [==============================] - 0s 3ms/step - loss: 0.0113\n",
            "Epoch 18/20\n",
            "13/13 [==============================] - 0s 4ms/step - loss: 0.0082\n",
            "Epoch 19/20\n",
            "13/13 [==============================] - 0s 4ms/step - loss: 0.0083\n",
            "Epoch 20/20\n",
            "13/13 [==============================] - 0s 5ms/step - loss: 0.0085\n"
          ],
          "name": "stdout"
        }
      ]
    },
    {
      "cell_type": "code",
      "metadata": {
        "id": "ODydVHFUeBnn"
      },
      "source": [
        "# save in h5\n",
        "# save_model(model, 'model_v1_lstm400.pkl')\n",
        "model.save('model_v1_lstm400_mod_win.h5')"
      ],
      "execution_count": 106,
      "outputs": []
    },
    {
      "cell_type": "code",
      "metadata": {
        "colab": {
          "base_uri": "https://localhost:8080/"
        },
        "id": "h57jzHjTdKv9",
        "outputId": "5c68fc19-f658-4db2-ef44-b1fbdbdf5a73"
      },
      "source": [
        "# load from h5\n",
        "# model = load_model(model, 'model_v1_lstm400.pkl')\n",
        "model.load_weights('model_v1_lstm400_mod_win.h5')\n",
        "\n",
        "# make inference\n",
        "targets = test[target_col][window_len:]\n",
        "preds = model.predict(X_test).squeeze()\n",
        "mean_absolute_error(preds, y_test)"
      ],
      "execution_count": 107,
      "outputs": [
        {
          "output_type": "stream",
          "text": [
            "WARNING:tensorflow:5 out of the last 13 calls to <function Model.make_predict_function.<locals>.predict_function at 0x7fce4424e268> triggered tf.function retracing. Tracing is expensive and the excessive number of tracings could be due to (1) creating @tf.function repeatedly in a loop, (2) passing tensors with different shapes, (3) passing Python objects instead of tensors. For (1), please define your @tf.function outside of the loop. For (2), @tf.function has experimental_relax_shapes=True option that relaxes argument shapes that can avoid unnecessary retracing. For (3), please refer to https://www.tensorflow.org/guide/function#controlling_retracing and https://www.tensorflow.org/api_docs/python/tf/function for  more details.\n"
          ],
          "name": "stdout"
        },
        {
          "output_type": "execute_result",
          "data": {
            "text/plain": [
              "0.06646275870393475"
            ]
          },
          "metadata": {
            "tags": []
          },
          "execution_count": 107
        }
      ]
    },
    {
      "cell_type": "code",
      "metadata": {
        "colab": {
          "base_uri": "https://localhost:8080/",
          "height": 427
        },
        "id": "Fg1CQTT0dQ88",
        "outputId": "3856107c-b76d-4e6a-804c-9fa2370e3e8c"
      },
      "source": [
        "preds = test[target_col].values[:-window_len] * (preds + 1)\n",
        "preds = pd.Series(index=targets.index, data=preds)\n",
        "line_plot(targets, preds, 'actual', 'prediction', lw=3)"
      ],
      "execution_count": 108,
      "outputs": [
        {
          "output_type": "display_data",
          "data": {
            "image/png": "[encoded data removed]",
            "text/plain": [
              "<Figure size 936x504 with 1 Axes>"
            ]
          },
          "metadata": {
            "tags": [],
            "needs_background": "light"
          }
        }
      ]
    },
    {
      "cell_type": "code",
      "metadata": {
        "id": "d9tSqzbUzNsB"
      },
      "source": [
        ""
      ],
      "execution_count": null,
      "outputs": []
    }
  ]
}